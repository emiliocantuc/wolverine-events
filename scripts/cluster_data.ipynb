{
 "cells": [
  {
   "cell_type": "markdown",
   "metadata": {},
   "source": [
    "# Cluster Data\n",
    "\n",
    "Scraps, embeds, and clusters past events. Meant to be ran (hopefully) only once manually."
   ]
  },
  {
   "cell_type": "code",
   "execution_count": 4,
   "metadata": {},
   "outputs": [
    {
     "ename": "ModuleNotFoundError",
     "evalue": "No module named 'sklearn'",
     "output_type": "error",
     "traceback": [
      "\u001b[0;31m---------------------------------------------------------------------------\u001b[0m",
      "\u001b[0;31mModuleNotFoundError\u001b[0m                       Traceback (most recent call last)",
      "Cell \u001b[0;32mIn[4], line 5\u001b[0m\n\u001b[1;32m      3\u001b[0m \u001b[38;5;28;01mfrom\u001b[39;00m \u001b[38;5;21;01mdatetime\u001b[39;00m \u001b[38;5;28;01mimport\u001b[39;00m datetime\n\u001b[1;32m      4\u001b[0m \u001b[38;5;28;01mimport\u001b[39;00m \u001b[38;5;21;01mnumpy\u001b[39;00m \u001b[38;5;28;01mas\u001b[39;00m \u001b[38;5;21;01mnp\u001b[39;00m\n\u001b[0;32m----> 5\u001b[0m \u001b[38;5;28;01mfrom\u001b[39;00m \u001b[38;5;21;01msklearn\u001b[39;00m\u001b[38;5;21;01m.\u001b[39;00m\u001b[38;5;21;01mcluster\u001b[39;00m \u001b[38;5;28;01mimport\u001b[39;00m KMeans\n\u001b[1;32m      7\u001b[0m \u001b[38;5;28;01mimport\u001b[39;00m \u001b[38;5;21;01mutils\u001b[39;00m\n\u001b[1;32m      9\u001b[0m DATA_DIR \u001b[38;5;241m=\u001b[39m \u001b[38;5;124m'\u001b[39m\u001b[38;5;124m../data/\u001b[39m\u001b[38;5;124m'\u001b[39m\n",
      "\u001b[0;31mModuleNotFoundError\u001b[0m: No module named 'sklearn'"
     ]
    }
   ],
   "source": [
    "import requests, json, pickle, urllib, time, random, os\n",
    "from bs4 import BeautifulSoup\n",
    "from datetime import datetime\n",
    "import numpy as np\n",
    "from sklearn.cluster import KMeans\n",
    "\n",
    "import utils\n",
    "\n",
    "DATA_DIR = '../data/'\n",
    "TMP_DIR  = DATA_DIR + 'cluster_data/'\n",
    "os.makedirs(TMP_DIR, exist_ok = True)\n",
    "\n",
    "OAI_KEY = os.getenv('OAI_KEY')\n",
    "if not OAI_KEY: print('No OAI_KEY!')"
   ]
  },
  {
   "cell_type": "code",
   "execution_count": 16,
   "metadata": {},
   "outputs": [],
   "source": [
    "def get_week_event_urls(n_weeks, baseURL = 'https://events.umich.edu/week/'):\n",
    "    # Gets urls of weekly endpoints starting at the current week and going back n_weeks\n",
    "\n",
    "    urls = []\n",
    "    currentURL = baseURL\n",
    "    r = requests.get(currentURL)\n",
    "    b = BeautifulSoup(r.text, 'html.parser')\n",
    "\n",
    "    while n_weeks > 0:\n",
    "\n",
    "        n_weeks -= 1\n",
    "\n",
    "        # Find link to '/week/...' with 'Prev' in text\n",
    "        week_links = b.find_all('a', href = lambda x: x and '/week/' in x)\n",
    "        prev_link = None\n",
    "        for link in week_links:\n",
    "            if link and 'Prev' in link.text:\n",
    "                prev_link = link.get('href')\n",
    "                break\n",
    "        if prev_link is None: break\n",
    "\n",
    "        currentURL = urllib.parse.urljoin(baseURL, prev_link)\n",
    "        r = requests.get(currentURL)\n",
    "        b = BeautifulSoup(r.text, 'html.parser')\n",
    "        urls.append(currentURL)\n",
    "    \n",
    "    return urls"
   ]
  },
  {
   "cell_type": "code",
   "execution_count": 17,
   "metadata": {},
   "outputs": [],
   "source": [
    "# Get links for past 10 years\n",
    "# urls = get_week_event_urls(53 * 10)\n",
    "# with open(TMP_DIR + 'event_urls.json', 'w+') as f:\n",
    "#     json.dump(urls, f)"
   ]
  },
  {
   "cell_type": "code",
   "execution_count": null,
   "metadata": {},
   "outputs": [],
   "source": [
    "# Scrap events for the urls we got\n",
    "# events = []\n",
    "# for i, url in enumerate(urls):\n",
    "#     url += '/json?v=2'\n",
    "#     r = requests.get(url)\n",
    "#     tmp = r.json()\n",
    "#     events.extend(tmp)\n",
    "#     print(url, f'got {len(tmp)} events')\n",
    "#     if i % 10 == 0: time.sleep(random.random() * 5)\n",
    "\n",
    "# with open('events.json', 'w+') as f:\n",
    "#     json.dump(events, f, indent = 2)"
   ]
  },
  {
   "cell_type": "code",
   "execution_count": 20,
   "metadata": {},
   "outputs": [
    {
     "ename": "",
     "evalue": "",
     "output_type": "error",
     "traceback": [
      "\u001b[1;31mThe Kernel crashed while executing code in the current cell or a previous cell. \n",
      "\u001b[1;31mPlease review the code in the cell(s) to identify a possible cause of the failure. \n",
      "\u001b[1;31mClick <a href='https://aka.ms/vscodeJupyterKernelCrash'>here</a> for more info. \n",
      "\u001b[1;31mView Jupyter <a href='command:jupyter.viewOutput'>log</a> for further details."
     ]
    }
   ],
   "source": [
    "# Load events\n",
    "with open(TMP_DIR + 'events.json', 'r') as f:\n",
    "    events = json.load(f)\n",
    "len(events)"
   ]
  },
  {
   "cell_type": "code",
   "execution_count": null,
   "metadata": {},
   "outputs": [],
   "source": [
    "# Find unique ones\n",
    "unique_titles = set([])\n",
    "unique_events = []\n",
    "for e in reversed(events):\n",
    "    if e['event_title'] in unique_titles or e['occurrence_count'] > 1: continue\n",
    "    unique_titles.add(e['event_title'])\n",
    "    unique_events.append(e)\n",
    "len(unique_events)"
   ]
  },
  {
   "cell_type": "code",
   "execution_count": null,
   "metadata": {},
   "outputs": [],
   "source": [
    "# Convert to strings\n",
    "to_embed = [utils.stringify_event(e) for e in unique_events]\n",
    "len(to_embed)"
   ]
  },
  {
   "cell_type": "code",
   "execution_count": null,
   "metadata": {},
   "outputs": [],
   "source": [
    "ix = np.random.choice(len(to_embed), 1)\n",
    "print(to_embed[ix])"
   ]
  },
  {
   "cell_type": "code",
   "execution_count": null,
   "metadata": {},
   "outputs": [],
   "source": [
    "# Get the embeddings\n",
    "embeddings = []\n",
    "for i, e in enumerate(to_embed):\n",
    "    embeddings.append(utils.get_embedding(e, OAI_KEY))\n",
    "    if i % 200 == 0: time.sleep(random.random() * 5)"
   ]
  },
  {
   "cell_type": "code",
   "execution_count": null,
   "metadata": {},
   "outputs": [],
   "source": [
    "# Save them\n",
    "with open('to_embed.json', 'w+') as f: json.dump(to_embed, f)\n",
    "\n",
    "E = np.array([np.array(e) for e in embeddings])\n",
    "np.save('embeddings.npy', E)\n",
    "E.shape"
   ]
  },
  {
   "cell_type": "code",
   "execution_count": null,
   "metadata": {},
   "outputs": [],
   "source": [
    "# Cluster them\n",
    "n_clusters = 500\n",
    "m = KMeans(n_clusters = n_clusters, n_init = 5, random_state = 42)\n",
    "m.fit(E)\n",
    "\n",
    "# Save the model and centroids\n",
    "with open('kmeans_model.pkl', 'wb') as f: pickle.dump(m, f)\n",
    "np.save('centroids.npy', m.cluster_centers_)"
   ]
  },
  {
   "cell_type": "code",
   "execution_count": null,
   "metadata": {},
   "outputs": [],
   "source": [
    "# View n events per cluster\n",
    "np.unique(m.labels_, return_counts = True)[1]"
   ]
  },
  {
   "cell_type": "code",
   "execution_count": null,
   "metadata": {},
   "outputs": [],
   "source": [
    "# Inspect\n",
    "for c in range(n_clusters):\n",
    "    print(f'Cluster {c}')\n",
    "    print(np.array(to_embed)[m.labels_ == c][:5])\n",
    "    print('\\n\\n')"
   ]
  }
 ],
 "metadata": {
  "kernelspec": {
   "display_name": "Python 3",
   "language": "python",
   "name": "python3"
  },
  "language_info": {
   "codemirror_mode": {
    "name": "ipython",
    "version": 3
   },
   "file_extension": ".py",
   "mimetype": "text/x-python",
   "name": "python",
   "nbconvert_exporter": "python",
   "pygments_lexer": "ipython3",
   "version": "3.11.6"
  }
 },
 "nbformat": 4,
 "nbformat_minor": 2
}
