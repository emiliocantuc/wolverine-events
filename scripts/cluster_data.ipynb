{
 "cells": [
  {
   "cell_type": "markdown",
   "metadata": {},
   "source": [
    "# Cluster Data\n",
    "\n",
    "Scraps, embeds, and clusters past events. Meant to be ran (hopefully) only once manually."
   ]
  },
  {
   "cell_type": "code",
   "execution_count": 1,
   "metadata": {},
   "outputs": [],
   "source": [
    "import requests, json, pickle, urllib, time, random, os\n",
    "from bs4 import BeautifulSoup\n",
    "import numpy as np\n",
    "from sklearn.cluster import KMeans\n",
    "\n",
    "\n",
    "import utils\n",
    "\n",
    "DATA_DIR = '../data/'\n",
    "TMP_DIR  = DATA_DIR + 'cluster_data/'\n",
    "os.makedirs(TMP_DIR, exist_ok = True)\n",
    "\n",
    "# with open('oai.key') as f: OAI_KEY = f.read().strip()"
   ]
  },
  {
   "cell_type": "code",
   "execution_count": 2,
   "metadata": {},
   "outputs": [],
   "source": [
    "def get_week_event_urls(n_weeks, baseURL = 'https://events.umich.edu/week/'):\n",
    "    # Gets urls of weekly endpoints starting at the current week and going back n_weeks\n",
    "\n",
    "    urls = []\n",
    "    currentURL = baseURL\n",
    "    r = requests.get(currentURL)\n",
    "    b = BeautifulSoup(r.text, 'html.parser')\n",
    "\n",
    "    while n_weeks > 0:\n",
    "\n",
    "        n_weeks -= 1\n",
    "\n",
    "        # Find link to '/week/...' with 'Prev' in text\n",
    "        week_links = b.find_all('a', href = lambda x: x and '/week/' in x)\n",
    "        prev_link = None\n",
    "        for link in week_links:\n",
    "            if link and 'Prev' in link.text:\n",
    "                prev_link = link.get('href')\n",
    "                break\n",
    "        if prev_link is None: break\n",
    "\n",
    "        currentURL = urllib.parse.urljoin(baseURL, prev_link)\n",
    "        r = requests.get(currentURL)\n",
    "        b = BeautifulSoup(r.text, 'html.parser')\n",
    "        urls.append(currentURL)\n",
    "    \n",
    "    return urls"
   ]
  },
  {
   "cell_type": "code",
   "execution_count": 5,
   "metadata": {},
   "outputs": [],
   "source": [
    "# Get links for past 10 years\n",
    "# urls = get_week_event_urls(53 * 10)\n",
    "# with open(TMP_DIR + 'event_urls.json', 'w+') as f:\n",
    "#     json.dump(urls, f)"
   ]
  },
  {
   "cell_type": "code",
   "execution_count": 6,
   "metadata": {},
   "outputs": [],
   "source": [
    "# Scrap events for the urls we got\n",
    "# events = []\n",
    "# for i, url in enumerate(urls):\n",
    "#     url += '/json?v=2'\n",
    "#     r = requests.get(url)\n",
    "#     tmp = r.json()\n",
    "#     events.extend(tmp)\n",
    "#     print(url, f'got {len(tmp)} events')\n",
    "#     if i % 10 == 0: time.sleep(random.random() * 5)\n",
    "\n",
    "# with open('events.json', 'w+') as f:\n",
    "#     json.dump(events, f, indent = 2)"
   ]
  },
  {
   "cell_type": "code",
   "execution_count": 5,
   "metadata": {},
   "outputs": [
    {
     "data": {
      "text/plain": [
       "170480"
      ]
     },
     "execution_count": 5,
     "metadata": {},
     "output_type": "execute_result"
    }
   ],
   "source": [
    "# Load events\n",
    "with open(TMP_DIR + 'events.json', 'r') as f:\n",
    "    events = json.load(f)\n",
    "len(events)"
   ]
  },
  {
   "cell_type": "code",
   "execution_count": 6,
   "metadata": {},
   "outputs": [
    {
     "data": {
      "text/plain": [
       "59745"
      ]
     },
     "execution_count": 6,
     "metadata": {},
     "output_type": "execute_result"
    }
   ],
   "source": [
    "# Find unique ones\n",
    "unique_titles = set([])\n",
    "unique_events = []\n",
    "for e in reversed(events):\n",
    "    if e['event_title'] in unique_titles or e['occurrence_count'] > 1: continue\n",
    "    unique_titles.add(e['event_title'])\n",
    "    unique_events.append(e)\n",
    "len(unique_events)"
   ]
  },
  {
   "cell_type": "code",
   "execution_count": 7,
   "metadata": {},
   "outputs": [
    {
     "data": {
      "text/plain": [
       "59745"
      ]
     },
     "execution_count": 7,
     "metadata": {},
     "output_type": "execute_result"
    }
   ],
   "source": [
    "# Convert to strings\n",
    "to_embed = [utils.stringify_event(e) for e in unique_events]\n",
    "len(to_embed)"
   ]
  },
  {
   "cell_type": "code",
   "execution_count": 8,
   "metadata": {},
   "outputs": [
    {
     "name": "stdout",
     "output_type": "stream",
     "text": [
      "Reception / Open House:Welcome Back to the Library\n",
      "Welcome to the University of Michigan Library!\n",
      "\n",
      "* Alumni can sign up to receive the Library's magazine to get a free U-M Library scarf.\n",
      "\n",
      "* Record your personal U-M story on the StoryCorps App for archiving in the Library of Congress.\n",
      "\n",
      "* Get an inside look at some of our collections and view demos as part of the U-M Third Century Expo, 4-7 p.m.\n",
      "Where:Shapiro Library\n",
      "When:Friday 10\n",
      "Sponsors:University Library\n"
     ]
    }
   ],
   "source": [
    "ix = np.random.randint(0, len(to_embed))\n",
    "print(to_embed[ix])"
   ]
  },
  {
   "cell_type": "code",
   "execution_count": 26,
   "metadata": {},
   "outputs": [],
   "source": [
    "# Get the embeddings\n",
    "embeddings = []\n",
    "for i in range(0, len(to_embed), 1000):\n",
    "    embeddings.extend(utils.get_embedding(to_embed[i:i + 1000], OAI_KEY))\n",
    "    time.sleep(15)"
   ]
  },
  {
   "cell_type": "code",
   "execution_count": 29,
   "metadata": {},
   "outputs": [
    {
     "data": {
      "text/plain": [
       "(59745, 1536)"
      ]
     },
     "execution_count": 29,
     "metadata": {},
     "output_type": "execute_result"
    }
   ],
   "source": [
    "# Save them\n",
    "with open(TMP_DIR + 'to_embed.json', 'w+') as f: json.dump(to_embed, f)\n",
    "\n",
    "E = np.array([np.array(e) for e in embeddings])\n",
    "np.save(TMP_DIR + 'embeddings.npy', E)\n",
    "E.shape"
   ]
  },
  {
   "cell_type": "code",
   "execution_count": 51,
   "metadata": {},
   "outputs": [],
   "source": [
    "# Cluster them\n",
    "n_clusters = 1000\n",
    "m = KMeans(n_clusters = n_clusters, n_init = 5, random_state = 42)\n",
    "m.fit(E)\n",
    "\n",
    "# Save the model and centroids\n",
    "with open(TMP_DIR + 'kmeans_model.pkl', 'wb') as f: pickle.dump(m, f)\n",
    "np.save(DATA_DIR + 'centroids.npy', m.cluster_centers_)"
   ]
  },
  {
   "cell_type": "code",
   "execution_count": 2,
   "metadata": {},
   "outputs": [],
   "source": [
    "# View n events per cluster\n",
    "# np.unique(m.labels_, return_counts = True)[1]"
   ]
  },
  {
   "cell_type": "code",
   "execution_count": 3,
   "metadata": {},
   "outputs": [],
   "source": [
    "# Inspect\n",
    "# for c in range(50):#range(n_clusters):\n",
    "#     print(f'Cluster {c}')\n",
    "#     ix = np.random.choice(np.where(m.labels_ == c)[0], 10)\n",
    "#     print(np.array(to_embed)[ix])\n",
    "#     print('\\n\\n')"
   ]
  }
 ],
 "metadata": {
  "kernelspec": {
   "display_name": "Python 3",
   "language": "python",
   "name": "python3"
  },
  "language_info": {
   "codemirror_mode": {
    "name": "ipython",
    "version": 3
   },
   "file_extension": ".py",
   "mimetype": "text/x-python",
   "name": "python",
   "nbconvert_exporter": "python",
   "pygments_lexer": "ipython3",
   "version": "3.11.6"
  }
 },
 "nbformat": 4,
 "nbformat_minor": 2
}
