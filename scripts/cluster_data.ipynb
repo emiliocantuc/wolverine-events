{
 "cells": [
  {
   "cell_type": "markdown",
   "metadata": {},
   "source": [
    "# Cluster Data\n",
    "\n",
    "Scraps, embeds, and clusters past events. Meant to be ran (hopefully) only once manually."
   ]
  },
  {
   "cell_type": "code",
   "execution_count": 9,
   "metadata": {},
   "outputs": [],
   "source": [
    "import requests, json, urllib, time, random, os\n",
    "from bs4 import BeautifulSoup\n",
    "from datetime import datetime\n",
    "import numpy as np\n",
    "\n",
    "import utils\n",
    "\n",
    "DATA_DIR = '../data/'\n",
    "TMP_DIR  = DATA_DIR + 'cluster_data/'\n",
    "os.makedirs(TMP_DIR, exist_ok = True)"
   ]
  },
  {
   "cell_type": "code",
   "execution_count": 7,
   "metadata": {},
   "outputs": [],
   "source": [
    "def get_week_event_urls(n_weeks, baseURL = 'https://events.umich.edu/week/'):\n",
    "    # Gets urls of weekly endpoints starting at the current week and going back n_weeks\n",
    "\n",
    "    urls = []\n",
    "    currentURL = baseURL\n",
    "    r = requests.get(currentURL)\n",
    "    b = BeautifulSoup(r.text, 'html.parser')\n",
    "\n",
    "    while n_weeks > 0:\n",
    "\n",
    "        n_weeks -= 1\n",
    "\n",
    "        # Find link to '/week/...' with 'Prev' in text\n",
    "        week_links = b.find_all('a', href = lambda x: x and '/week/' in x)\n",
    "        prev_link = None\n",
    "        for link in week_links:\n",
    "            if link and 'Prev' in link.text:\n",
    "                prev_link = link.get('href')\n",
    "                break\n",
    "        if prev_link is None: break\n",
    "\n",
    "        currentURL = urllib.parse.urljoin(baseURL, prev_link)\n",
    "        r = requests.get(currentURL)\n",
    "        b = BeautifulSoup(r.text, 'html.parser')\n",
    "        urls.append(currentURL)\n",
    "    \n",
    "    return urls"
   ]
  },
  {
   "cell_type": "code",
   "execution_count": null,
   "metadata": {},
   "outputs": [],
   "source": [
    "# Get links for past 10 years\n",
    "urls = get_week_event_urls(53 * 10)\n",
    "with open(TMP_DIR + 'event_urls.json', 'w+') as f:\n",
    "    json.dump(urls, f)"
   ]
  },
  {
   "cell_type": "code",
   "execution_count": null,
   "metadata": {},
   "outputs": [],
   "source": [
    "# Scrap events for the urls we got\n",
    "# events = []\n",
    "# for i, url in enumerate(urls):\n",
    "#     url += '/json?v=2'\n",
    "#     r = requests.get(url)\n",
    "#     tmp = r.json()\n",
    "#     events.extend(tmp)\n",
    "#     print(url, f'got {len(tmp)} events')\n",
    "#     if i % 10 == 0: time.sleep(random.random() * 5)\n",
    "\n",
    "# with open('events.json', 'w+') as f:\n",
    "#     json.dump(events, f, indent = 2)"
   ]
  },
  {
   "cell_type": "code",
   "execution_count": null,
   "metadata": {},
   "outputs": [],
   "source": [
    "with open('events.json', 'r') as f:\n",
    "    events = json.load(f)\n",
    "len(events)"
   ]
  }
 ],
 "metadata": {
  "kernelspec": {
   "display_name": "Python 3",
   "language": "python",
   "name": "python3"
  },
  "language_info": {
   "codemirror_mode": {
    "name": "ipython",
    "version": 3
   },
   "file_extension": ".py",
   "mimetype": "text/x-python",
   "name": "python",
   "nbconvert_exporter": "python",
   "pygments_lexer": "ipython3",
   "version": "3.11.6"
  }
 },
 "nbformat": 4,
 "nbformat_minor": 2
}
