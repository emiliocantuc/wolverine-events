{
 "cells": [
  {
   "cell_type": "markdown",
   "metadata": {},
   "source": [
    "# Idea\n",
    "Where we describe how we'll do recommendations. We assume we have scrapped a good portion of past events, clustered them and have saved the centroids. We also assume we have this week's events embeddings.\n",
    "\n",
    "This is also meant to be a playground to try out new ideas so it might be a little messy."
   ]
  },
  {
   "cell_type": "code",
   "execution_count": 1,
   "metadata": {},
   "outputs": [],
   "source": [
    "import requests, json, pickle, urllib, time, random, os\n",
    "from bs4 import BeautifulSoup\n",
    "import numpy as np\n",
    "import matplotlib.pyplot as plt\n",
    "from sklearn.cluster import KMeans\n",
    "from sklearn.metrics.pairwise import euclidean_distances\n",
    "\n",
    "def softmax(x):\n",
    "    e = (np.exp(x) - np.max(x, axis = 1, keepdims = True))\n",
    "    e /= e.sum(axis = 1, keepdims = True)\n",
    "    return e"
   ]
  },
  {
   "cell_type": "code",
   "execution_count": 3,
   "metadata": {},
   "outputs": [
    {
     "name": "stderr",
     "output_type": "stream",
     "text": [
      "/home/main/.local/lib/python3.11/site-packages/sklearn/base.py:376: InconsistentVersionWarning: Trying to unpickle estimator KMeans from version 1.4.0 when using version 1.5.2. This might lead to breaking code or invalid results. Use at your own risk. For more info please refer to:\n",
      "https://scikit-learn.org/stable/model_persistence.html#security-maintainability-limitations\n",
      "  warnings.warn(\n"
     ]
    },
    {
     "data": {
      "text/plain": [
       "((1000, 1536), (698, 1536))"
      ]
     },
     "execution_count": 3,
     "metadata": {},
     "output_type": "execute_result"
    }
   ],
   "source": [
    "# First load everything\n",
    "centroids = np.load('../data/centroids.npy')\n",
    "current_embs = np.load('../data/embeddings.npy')\n",
    "with open('../data/cluster_data/kmeans_model.pkl', 'rb') as f: m = pickle.load(f)\n",
    "with open('../data/cluster_data/to_embed.json', 'r') as f: to_embed = json.loads(f.read())\n",
    "centroids.shape, current_embs.shape"
   ]
  },
  {
   "cell_type": "code",
   "execution_count": 4,
   "metadata": {},
   "outputs": [
    {
     "data": {
      "text/plain": [
       "(698, 1000)"
      ]
     },
     "execution_count": 4,
     "metadata": {},
     "output_type": "execute_result"
    }
   ],
   "source": [
    "# Then compute the euclidian distances of new embeddings to the centroids\n",
    "# Could do it manually but can use sklearn's optimized function\n",
    "# Note: could also use m.transform(current_embs) but we could avoid loading the model this way\n",
    "dists_to_centroids = euclidean_distances(current_embs, centroids)\n",
    "dists_to_centroids.shape"
   ]
  },
  {
   "cell_type": "code",
   "execution_count": 6,
   "metadata": {},
   "outputs": [
    {
     "data": {
      "text/plain": [
       "(698, 1000)"
      ]
     },
     "execution_count": 6,
     "metadata": {},
     "output_type": "execute_result"
    }
   ],
   "source": [
    "# We'll weight how much each cluster can say about each event by how far away they are\n",
    "eps = 1e-6 # in case a dist is exactly 0\n",
    "inv_temp = 2\n",
    "weights = (1 / (dists_to_centroids + eps))\n",
    "weights = softmax(weights * inv_temp)\n",
    "weights.shape"
   ]
  },
  {
   "cell_type": "code",
   "execution_count": 33,
   "metadata": {},
   "outputs": [
    {
     "data": {
      "text/plain": [
       "(1000,)"
      ]
     },
     "execution_count": 33,
     "metadata": {},
     "output_type": "execute_result"
    }
   ],
   "source": [
    "# We'll imagine that users \"rate clusters\". I.e. we'll maintain a (n_clusters,) vector \"rating\" each of the clusters\n",
    "user_ratings = np.random.uniform(-1e-5, 1e-5, size = len(centroids))\n",
    "user_ratings.shape"
   ]
  },
  {
   "cell_type": "code",
   "execution_count": 37,
   "metadata": {},
   "outputs": [
    {
     "data": {
      "text/plain": [
       "(698,)"
      ]
     },
     "execution_count": 37,
     "metadata": {},
     "output_type": "execute_result"
    }
   ],
   "source": [
    "# Make predictions with\n",
    "preds = (weights @ user_ratings)\n",
    "preds.shape"
   ]
  },
  {
   "cell_type": "code",
   "execution_count": 38,
   "metadata": {},
   "outputs": [
    {
     "data": {
      "text/plain": [
       "np.float64(0.0021060817068293486)"
      ]
     },
     "execution_count": 38,
     "metadata": {},
     "output_type": "execute_result"
    }
   ],
   "source": [
    "# Imagine user rated\n",
    "rated_ix, rating = 0, 2 # event rated and rating given\n",
    "preds[rated_ix]"
   ]
  },
  {
   "cell_type": "code",
   "execution_count": 39,
   "metadata": {},
   "outputs": [
    {
     "data": {
      "text/plain": [
       "np.float64(0.004209735926879975)"
      ]
     },
     "execution_count": 39,
     "metadata": {},
     "output_type": "execute_result"
    }
   ],
   "source": [
    "# We update the user ratings with\n",
    "lr = 1  # step size / lambda\n",
    "user_ratings -= lr * weights[rated_ix] * (preds[rated_ix] - rating)\n",
    "\n",
    "# After update\n",
    "preds = weights @ user_ratings\n",
    "preds[rated_ix]"
   ]
  },
  {
   "cell_type": "code",
   "execution_count": 128,
   "metadata": {},
   "outputs": [
    {
     "data": {
      "text/plain": [
       "(np.int64(781), np.int64(607), (1000, 22))"
      ]
     },
     "execution_count": 128,
     "metadata": {},
     "output_type": "execute_result"
    }
   ],
   "source": [
    "user_ratings = np.random.uniform(-1e-5, 1e-5, size = len(centroids))\n",
    "rating_history = [user_ratings.copy()]\n",
    "\n",
    "updated_ratings = lambda ratings, preds, rated_ix, actual: ratings - lr * weights[rated_ix] * (preds[rated_ix] - actual)\n",
    "\n",
    "rated_ix = 10\n",
    "closest_cluster = weights[rated_ix].argmax()  # to the event\n",
    "furthest_cluster = weights[rated_ix].argmin() # from the event\n",
    "furthest_event = euclidean_distances(current_embs, current_embs)[rated_ix].argmax()\n",
    "\n",
    "# user rates the event positively\n",
    "user_ratings = updated_ratings(user_ratings, preds, rated_ix, 2)\n",
    "rating_history.append(user_ratings.copy())\n",
    "\n",
    "# and downvotes the event that is furthest away\n",
    "for _ in range(20):\n",
    "    user_ratings = updated_ratings(user_ratings, preds, furthest_event, -1)\n",
    "    rating_history.append(user_ratings.copy())\n",
    "\n",
    "\n",
    "rating_history = np.stack(rating_history, axis = 1)\n",
    "closest_cluster, furthest_cluster, rating_history.shape"
   ]
  },
  {
   "cell_type": "code",
   "execution_count": 130,
   "metadata": {},
   "outputs": [
    {
     "data": {
      "text/plain": [
       "Text(0.5, 0, 'time step')"
      ]
     },
     "execution_count": 130,
     "metadata": {},
     "output_type": "execute_result"
    },
    {
     "data": {
      "image/png": "[encoded data removed]",
      "text/plain": [
       "<Figure size 640x480 with 1 Axes>"
      ]
     },
     "metadata": {},
     "output_type": "display_data"
    }
   ],
   "source": [
    "_ = plt.plot(np.where(rating_history.argsort(axis = 0) == closest_cluster)[0] / rating_history.shape[0])\n",
    "_ = plt.plot(np.where(rating_history.argsort(axis = 0) == furthest_cluster)[0] / rating_history.shape[0])\n",
    "_ = plt.xticks(np.arange(rating_history.shape[1]))\n",
    "plt.ylabel('quantile'); plt.xlabel('time step')"
   ]
  }
 ],
 "metadata": {
  "kernelspec": {
   "display_name": "Python 3",
   "language": "python",
   "name": "python3"
  },
  "language_info": {
   "codemirror_mode": {
    "name": "ipython",
    "version": 3
   },
   "file_extension": ".py",
   "mimetype": "text/x-python",
   "name": "python",
   "nbconvert_exporter": "python",
   "pygments_lexer": "ipython3",
   "version": "3.11.6"
  }
 },
 "nbformat": 4,
 "nbformat_minor": 2
}
