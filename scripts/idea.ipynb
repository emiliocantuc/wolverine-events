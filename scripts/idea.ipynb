{
 "cells": [
  {
   "cell_type": "markdown",
   "metadata": {},
   "source": [
    "# Idea\n",
    "Where we describe how we'll do recommendations. We assume we have scrapped a good portion of past events, clustered them and have saved the centroids. We also assume we have this week's events embeddings.\n",
    "\n",
    "This is also meant to be a playground to try out new ideas so it might be a little messy."
   ]
  },
  {
   "cell_type": "code",
   "execution_count": 2,
   "metadata": {},
   "outputs": [],
   "source": [
    "import requests, json, pickle, urllib, time, random, os\n",
    "from bs4 import BeautifulSoup\n",
    "import numpy as np\n",
    "# import matplotlib.pyplot as plt\n",
    "from sklearn.cluster import KMeans\n",
    "from sklearn.metrics.pairwise import euclidean_distances"
   ]
  },
  {
   "cell_type": "code",
   "execution_count": 10,
   "metadata": {},
   "outputs": [
    {
     "data": {
      "text/plain": [
       "((1000, 1536), (641, 1536))"
      ]
     },
     "execution_count": 10,
     "metadata": {},
     "output_type": "execute_result"
    }
   ],
   "source": [
    "# First load everything\n",
    "centroids = np.load('../data/centroids.npy')\n",
    "current_embs = np.load('../data/current_embs.npy')\n",
    "# with open('../data/cluster_data/kmeans_model.pkl', 'rb') as f: m = pickle.load(f)\n",
    "centroids.shape, current_embs.shape"
   ]
  },
  {
   "cell_type": "code",
   "execution_count": 11,
   "metadata": {},
   "outputs": [
    {
     "data": {
      "text/plain": [
       "(641, 1000)"
      ]
     },
     "execution_count": 11,
     "metadata": {},
     "output_type": "execute_result"
    }
   ],
   "source": [
    "# Then compute the euclidian distances of new embeddings to the centroids\n",
    "# Could do it manually but can use sklearn's optimized function\n",
    "# Note: could also use m.transform(current_embs) but we could avoid loading the model this way\n",
    "dists_to_centroids = euclidean_distances(current_embs, centroids)\n",
    "dists_to_centroids.shape"
   ]
  },
  {
   "cell_type": "code",
   "execution_count": 13,
   "metadata": {},
   "outputs": [
    {
     "data": {
      "text/plain": [
       "((1000,), np.float64(0.0020037413034603917), np.float64(0.06322157872878849))"
      ]
     },
     "execution_count": 13,
     "metadata": {},
     "output_type": "execute_result"
    }
   ],
   "source": [
    "# We'll imagine that users \"rate clusters\". I.e. we'll maintain a (n_clusters,) vector \"rating\" each of the clusters\n",
    "# TODO: determine how to initialize\n",
    "sd = 0.001\n",
    "user_ratings = np.random.randn(len(centroids)) * sd\n",
    "user_ratings[0] = 2\n",
    "user_ratings.shape, user_ratings.mean(), user_ratings.std()"
   ]
  },
  {
   "cell_type": "code",
   "execution_count": 14,
   "metadata": {},
   "outputs": [
    {
     "data": {
      "text/plain": [
       "(641, 1000)"
      ]
     },
     "execution_count": 14,
     "metadata": {},
     "output_type": "execute_result"
    }
   ],
   "source": [
    "# We'll weight how much each cluster can say about each event by how far away they are\n",
    "eps = 1e-5\n",
    "weights = (1 / (dists_to_centroids + eps))\n",
    "weights /= weights.sum(axis=1)[:, np.newaxis]\n",
    "weights.shape"
   ]
  },
  {
   "cell_type": "code",
   "execution_count": 112,
   "metadata": {},
   "outputs": [
    {
     "data": {
      "text/plain": [
       "(array([169., 649., 102.,  25.,  16.,  14.,  17.,   5.,   1.,   2.]),\n",
       " array([0.00080249, 0.00091715, 0.0010318 , 0.00114645, 0.0012611 ,\n",
       "        0.00137575, 0.0014904 , 0.00160505, 0.00171971, 0.00183436,\n",
       "        0.00194901]),\n",
       " <BarContainer object of 10 artists>)"
      ]
     },
     "execution_count": 112,
     "metadata": {},
     "output_type": "execute_result"
    },
    {
     "data": {
      "image/png": "[encoded data removed]",
      "text/plain": [
       "<Figure size 400x400 with 1 Axes>"
      ]
     },
     "metadata": {},
     "output_type": "display_data"
    }
   ],
   "source": [
    "plt.figure(figsize=(4,4)); plt.hist(weights[-2])"
   ]
  },
  {
   "cell_type": "code",
   "execution_count": 15,
   "metadata": {},
   "outputs": [
    {
     "data": {
      "text/plain": [
       "(641,)"
      ]
     },
     "execution_count": 15,
     "metadata": {},
     "output_type": "execute_result"
    }
   ],
   "source": [
    "preds = (weights @ user_ratings)\n",
    "preds.shape"
   ]
  },
  {
   "cell_type": "code",
   "execution_count": 99,
   "metadata": {},
   "outputs": [
    {
     "data": {
      "text/plain": [
       "(array([121., 250., 145., 103.,  11.,   2.,   2.,   1.,   0.,   9.]),\n",
       " array([0.0017311 , 0.00183293, 0.00193475, 0.00203658, 0.00213841,\n",
       "        0.00224023, 0.00234206, 0.00244388, 0.00254571, 0.00264753,\n",
       "        0.00274936]),\n",
       " <BarContainer object of 10 artists>)"
      ]
     },
     "execution_count": 99,
     "metadata": {},
     "output_type": "execute_result"
    },
    {
     "data": {
      "image/png": "[encoded data removed]",
      "text/plain": [
       "<Figure size 400x400 with 1 Axes>"
      ]
     },
     "metadata": {},
     "output_type": "display_data"
    }
   ],
   "source": [
    "plt.figure(figsize=(4,4)); plt.hist(preds)"
   ]
  },
  {
   "cell_type": "code",
   "execution_count": 16,
   "metadata": {},
   "outputs": [
    {
     "data": {
      "text/plain": [
       "array([357, 277, 620, 516, 356, 134, 228,  68,  30, 402, 257, 410, 401,\n",
       "       540, 534, 437, 298,  94, 166,   7, 577,  45, 256, 547, 529, 152,\n",
       "       559, 636, 417, 502,  27, 618,  14, 314,   8, 617, 438, 299, 579,\n",
       "       612, 584, 601, 594,  96, 168, 458, 598,  46, 114, 188, 525, 291,\n",
       "       315, 189, 599, 115, 459,  15, 307, 446,  28, 176, 102,   9,  52,\n",
       "       442, 303, 581, 172,  99,  49, 629, 382, 443, 583, 483,  19, 605,\n",
       "       420, 414, 194, 469,  10, 322, 600, 466, 190, 509, 626, 478, 422,\n",
       "       365, 493, 462, 546, 520,  23, 441, 302,  31, 610, 170, 318, 426,\n",
       "        98,  48, 623, 187, 597, 457, 192, 435, 294,  20, 295, 161, 434,\n",
       "        91,  92,  43, 162,  44, 465, 558, 270, 407, 486, 535,  11, 596,\n",
       "       309, 452, 627,  24, 632, 611, 111,  29, 184, 619,  17, 602, 537,\n",
       "       313, 513, 411, 562, 268,  21, 311, 634, 159, 550, 207, 621,  83,\n",
       "       164, 283, 387, 416, 484, 202, 132,  25, 306, 423, 175, 445, 639,\n",
       "       101,  51, 633, 613, 421, 557,   2, 135, 282,  85,  37, 448,  34,\n",
       "       400, 573, 521, 560, 404, 271, 592,   4, 485, 556, 567, 561, 433,\n",
       "       288, 425,  39, 237,  87, 383, 571, 505, 496, 316, 625,   0, 432,\n",
       "       120, 589, 522, 637, 541, 533, 463, 472, 569, 568, 265,  35, 444,\n",
       "       514, 305, 616, 429, 570, 148, 379, 100,  22, 174, 267, 593,  50,\n",
       "       551,  26, 565,  78,  65,  32, 405, 624, 108,  58, 141, 419,   5,\n",
       "        18, 638, 511, 347, 324,  69, 386,  88, 369, 424, 523, 107,  40,\n",
       "       284, 106, 564, 381, 212, 528,  70, 234, 263, 524, 572, 372, 507,\n",
       "       136, 359,  62, 377, 370, 251, 231, 113, 238, 131, 330, 436, 331,\n",
       "       118, 430, 354, 358, 157,  90, 495, 555, 554, 603, 490, 215,  93,\n",
       "       548, 549, 512, 510, 630, 631, 393, 178, 350, 590, 470,  12, 492,\n",
       "       580,  81, 595, 242, 180, 476, 232,  13, 531, 566,  33, 455, 428,\n",
       "       160,   1,  76, 201, 169, 327,  16, 552, 292, 247, 371, 167, 124,\n",
       "        36, 244, 182, 517, 286,  84, 506, 128, 129,  53, 304, 224, 274,\n",
       "       239, 412, 530, 519, 264, 591, 494, 360, 606, 195, 375, 503, 230,\n",
       "       588, 460, 473, 179, 439, 300, 117, 394, 209, 289, 542, 339, 325,\n",
       "       258, 390, 384, 246,  67, 210, 578, 158,  57, 218,   3, 109, 491,\n",
       "       217, 477, 475, 151, 329, 585,  38, 615, 353,  86,  82, 518, 499,\n",
       "       275, 427, 154, 287, 177, 211, 340, 431, 290, 278, 467, 497, 336,\n",
       "       130, 574, 468, 388, 640, 328, 364, 543, 196, 508, 112, 147,   6,\n",
       "        42,  89, 456, 121, 205, 454,  59, 498, 341, 575, 344, 255, 538,\n",
       "       399,  56, 392,  77, 489, 273, 145,  74, 319, 635, 233, 367, 245,\n",
       "       582, 259, 243, 403, 240, 563, 138, 334, 110, 236, 208, 418, 321,\n",
       "       122, 312, 479, 515, 337, 342, 320, 276, 241, 293, 544,  63, 249,\n",
       "       395, 223, 361, 545, 125, 301, 156, 440, 103, 140, 193, 214, 609,\n",
       "       343, 355, 614, 338, 622, 173, 133, 487, 481, 461, 171, 149, 385,\n",
       "       308, 335, 607, 123, 380, 216, 389, 333, 349,  55, 351, 225, 260,\n",
       "       453, 352, 220, 229, 227, 373,  75, 262,  73, 576, 368, 608, 235,\n",
       "       604, 310, 143, 539, 261, 105, 587,  72, 285, 203, 204, 199, 126,\n",
       "        97, 366, 406, 146, 139, 323, 144, 153, 248, 586, 345, 155, 553,\n",
       "       219,  66, 471, 296, 297, 526, 213, 226, 346, 163, 197, 206, 269,\n",
       "       272, 191,  71, 413,  80,  79, 378, 362, 398, 451, 628, 104,  60,\n",
       "        47, 363, 165, 332, 450, 447, 396, 482, 527, 250, 279,  95, 181,\n",
       "       116, 488, 374,  41, 317, 391, 409, 254, 415, 504, 221, 222, 198,\n",
       "       150, 252, 281, 280, 253, 376, 449, 200, 119,  54, 142, 183, 536,\n",
       "       137, 266, 532, 464,  64, 501,  61, 480, 185, 127, 397, 474, 500,\n",
       "       326, 186, 348, 408])"
      ]
     },
     "execution_count": 16,
     "metadata": {},
     "output_type": "execute_result"
    }
   ],
   "source": [
    "(-preds).argsort()"
   ]
  },
  {
   "cell_type": "code",
   "execution_count": 21,
   "metadata": {},
   "outputs": [
    {
     "data": {
      "text/plain": [
       "np.int64(444)"
      ]
     },
     "execution_count": 21,
     "metadata": {},
     "output_type": "execute_result"
    }
   ],
   "source": [
    "weights[0].argmax()"
   ]
  },
  {
   "cell_type": "code",
   "execution_count": 23,
   "metadata": {},
   "outputs": [
    {
     "data": {
      "text/plain": [
       "np.float64(2.0)"
      ]
     },
     "execution_count": 23,
     "metadata": {},
     "output_type": "execute_result"
    }
   ],
   "source": [
    "(weights[0] * 2).sum()"
   ]
  },
  {
   "cell_type": "code",
   "execution_count": 31,
   "metadata": {},
   "outputs": [],
   "source": [
    "# user rated the event 0 as 2:\n",
    "user_ratings += 2 * weights[0]"
   ]
  },
  {
   "cell_type": "code",
   "execution_count": 41,
   "metadata": {},
   "outputs": [],
   "source": [
    "import sqlite3\n",
    "import matplotlib.pyplot as plt\n",
    "def get_user_ratings(db: sqlite3.Connection, user_id: int) -> np.ndarray:\n",
    "    query = \"SELECT ratings FROM user_ratings WHERE user_id = ?\"\n",
    "    row = db.execute(query, (user_id,)).fetchone()\n",
    "    if row is None: raise ValueError(f\"No ratings found for user_id: {user_id}\")\n",
    "    return np.frombuffer(row[0])\n",
    "\n",
    "db = sqlite3.connect('../data/main.db')"
   ]
  },
  {
   "cell_type": "code",
   "execution_count": 35,
   "metadata": {},
   "outputs": [],
   "source": [
    "user_id = 8\n",
    "query = \"SELECT ratings FROM user_ratings WHERE user_id = ?\"\n",
    "row = db.execute(query, (user_id,)).fetchone()"
   ]
  },
  {
   "cell_type": "code",
   "execution_count": 40,
   "metadata": {},
   "outputs": [
    {
     "data": {
      "text/plain": [
       "(1000,)"
      ]
     },
     "execution_count": 40,
     "metadata": {},
     "output_type": "execute_result"
    }
   ],
   "source": [
    "np.frombuffer(row[0]).shape"
   ]
  },
  {
   "cell_type": "code",
   "execution_count": 24,
   "metadata": {},
   "outputs": [
    {
     "data": {
      "text/plain": [
       "array([ 2.8623969e-26, -5.3491700e-01,  3.5076474e+08,  5.6049800e-01,\n",
       "       -9.7385906e-29, -5.5625904e-01,  9.6124559e+33,  6.7428768e-01,\n",
       "       -4.2993264e-04,  5.3383476e-01, -1.7515674e-35,  6.4449936e-01,\n",
       "        1.3119906e-16,  4.8032209e-01,  9.4986101e+10,  5.2241904e-01,\n",
       "       -5.0480859e+02, -6.4389336e-01, -2.5775970e-26, -6.4161575e-01],\n",
       "      dtype=float32)"
      ]
     },
     "execution_count": 24,
     "metadata": {},
     "output_type": "execute_result"
    }
   ],
   "source": [
    "ratings[:20]"
   ]
  },
  {
   "cell_type": "code",
   "execution_count": 29,
   "metadata": {},
   "outputs": [
    {
     "data": {
      "text/plain": [
       "np.float64(4.7009131615116304e-05)"
      ]
     },
     "execution_count": 29,
     "metadata": {},
     "output_type": "execute_result"
    }
   ],
   "source": [
    "(np.random.rand(1000) * 1e-4).mean()"
   ]
  },
  {
   "cell_type": "code",
   "execution_count": 34,
   "metadata": {},
   "outputs": [
    {
     "data": {
      "text/plain": [
       "(2000,)"
      ]
     },
     "execution_count": 34,
     "metadata": {},
     "output_type": "execute_result"
    }
   ],
   "source": [
    "ratings.shape"
   ]
  },
  {
   "cell_type": "code",
   "execution_count": 43,
   "metadata": {},
   "outputs": [
    {
     "data": {
      "text/plain": [
       "(array([  9.,  45., 108., 172., 232., 215., 133.,  66.,  15.,   5.]),\n",
       " array([-2.86418182e-04, -2.25040429e-04, -1.63662676e-04, -1.02284923e-04,\n",
       "        -4.09071707e-05,  2.04705821e-05,  8.18483348e-05,  1.43226088e-04,\n",
       "         2.04603840e-04,  2.65981593e-04,  3.27359346e-04]),\n",
       " <BarContainer object of 10 artists>)"
      ]
     },
     "execution_count": 43,
     "metadata": {},
     "output_type": "execute_result"
    },
    {
     "data": {
      "image/png": "[encoded data removed]",
      "text/plain": [
       "<Figure size 640x480 with 1 Axes>"
      ]
     },
     "metadata": {},
     "output_type": "display_data"
    }
   ],
   "source": [
    "plt.hist(ratings)"
   ]
  },
  {
   "cell_type": "code",
   "execution_count": 48,
   "metadata": {},
   "outputs": [
    {
     "data": {
      "text/plain": [
       "(array([  1.,   0.,   0.,   0.,   9.,  15.,   5.,  74., 610., 286.]),\n",
       " array([-0.00530827, -0.00492484, -0.00454141, -0.00415798, -0.00377455,\n",
       "        -0.00339112, -0.00300769, -0.00262426, -0.00224083, -0.0018574 ,\n",
       "        -0.00147397]),\n",
       " <BarContainer object of 10 artists>)"
      ]
     },
     "execution_count": 48,
     "metadata": {},
     "output_type": "execute_result"
    },
    {
     "data": {
      "image/png": "[encoded data removed]",
      "text/plain": [
       "<Figure size 640x480 with 1 Axes>"
      ]
     },
     "metadata": {},
     "output_type": "display_data"
    }
   ],
   "source": [
    "ratings = get_user_ratings(db, 8)\n",
    "plt.hist(ratings)"
   ]
  },
  {
   "cell_type": "code",
   "execution_count": 50,
   "metadata": {},
   "outputs": [
    {
     "data": {
      "text/plain": [
       "np.float64(-0.00017316824411376698)"
      ]
     },
     "execution_count": 50,
     "metadata": {},
     "output_type": "execute_result"
    }
   ],
   "source": [
    "ratings.max()"
   ]
  },
  {
   "cell_type": "code",
   "execution_count": 51,
   "metadata": {},
   "outputs": [
    {
     "data": {
      "text/plain": [
       "<BarContainer object of 1000 artists>"
      ]
     },
     "execution_count": 51,
     "metadata": {},
     "output_type": "execute_result"
    },
    {
     "data": {
      "image/png": "[encoded data removed]",
      "text/plain": [
       "<Figure size 640x480 with 1 Axes>"
      ]
     },
     "metadata": {},
     "output_type": "display_data"
    }
   ],
   "source": [
    "ratings = get_user_ratings(db, 8)\n",
    "plt.bar(list(range(len(ratings))), ratings)"
   ]
  },
  {
   "cell_type": "code",
   "execution_count": 42,
   "metadata": {},
   "outputs": [
    {
     "data": {
      "text/plain": [
       "<BarContainer object of 1000 artists>"
      ]
     },
     "execution_count": 42,
     "metadata": {},
     "output_type": "execute_result"
    },
    {
     "data": {
      "image/png": "[encoded data removed]",
      "text/plain": [
       "<Figure size 640x480 with 1 Axes>"
      ]
     },
     "metadata": {},
     "output_type": "display_data"
    }
   ],
   "source": [
    "ratings = get_user_ratings(db, 8)\n",
    "plt.bar(list(range(len(ratings))), ratings)"
   ]
  },
  {
   "cell_type": "code",
   "execution_count": null,
   "metadata": {},
   "outputs": [],
   "source": []
  }
 ],
 "metadata": {
  "kernelspec": {
   "display_name": "Python 3",
   "language": "python",
   "name": "python3"
  },
  "language_info": {
   "codemirror_mode": {
    "name": "ipython",
    "version": 3
   },
   "file_extension": ".py",
   "mimetype": "text/x-python",
   "name": "python",
   "nbconvert_exporter": "python",
   "pygments_lexer": "ipython3",
   "version": "3.11.6"
  }
 },
 "nbformat": 4,
 "nbformat_minor": 2
}
